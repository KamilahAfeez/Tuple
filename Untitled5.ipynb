{
  "nbformat": 4,
  "nbformat_minor": 0,
  "metadata": {
    "colab": {
      "provenance": [],
      "authorship_tag": "ABX9TyMkZB7kTvq9i3pzWsiVWOvO",
      "include_colab_link": true
    },
    "kernelspec": {
      "name": "python3",
      "display_name": "Python 3"
    },
    "language_info": {
      "name": "python"
    }
  },
  "cells": [
    {
      "cell_type": "markdown",
      "metadata": {
        "id": "view-in-github",
        "colab_type": "text"
      },
      "source": [
        "<a href=\"https://colab.research.google.com/github/KamilahAfeez/Tuple/blob/main/Untitled5.ipynb\" target=\"_parent\"><img src=\"https://colab.research.google.com/assets/colab-badge.svg\" alt=\"Open In Colab\"/></a>"
      ]
    },
    {
      "cell_type": "code",
      "source": [
        "mixed_tuple = (\"Hello\",42,3.14, True)\n",
        "print(\"1.Tuple with different datatypes:\",mixed_tuple)\n",
        "int_tuple = (1, 2, 3, 4, 5)\n",
        "print(\"2. Tuple of integers:\", int_tuple)\n",
        "added_tuple = tuple(x + 9 for x in int_tuple)\n",
        "print(\"3. New tuple after adding 9 to each element:\", added_tuple)\n",
        "count_11 = added_tuple.count(11)\n",
        "print(\"4. Count of 11 in the new tuple:\", count_11)\n",
        "sliced_tuple = added_tuple[:3]\n",
        "print(\"5. Sliced tuple (first 3 elements):\", sliced_tuple)\n"
      ],
      "metadata": {
        "colab": {
          "base_uri": "https://localhost:8080/"
        },
        "id": "8LKNurhHpr4m",
        "outputId": "7762fd11-efe8-4aa2-a1e4-9b9042a0c5c1"
      },
      "execution_count": null,
      "outputs": [
        {
          "output_type": "stream",
          "name": "stdout",
          "text": [
            "1.Tuple with different datatypes: ('Hello', 42, 3.14, True)\n",
            "2. Tuple of integers: (1, 2, 3, 4, 5)\n",
            "3. New tuple after adding 9 to each element: (10, 11, 12, 13, 14)\n",
            "4. Count of 11 in the new tuple: 1\n",
            "5. Sliced tuple (first 3 elements): (10, 11, 12)\n"
          ]
        }
      ]
    }
  ]
}